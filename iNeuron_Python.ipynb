{
 "cells": [
  {
   "cell_type": "markdown",
   "id": "2427d7f1-88ac-4067-a8c0-755766937582",
   "metadata": {},
   "source": [
    "## Python"
   ]
  },
  {
   "cell_type": "markdown",
   "id": "04ff9eab-3155-454b-884d-bdf14cd68c81",
   "metadata": {},
   "source": [
    "# Question: 1\n",
    "# Write an efficient algorithm that searches for a value target in an m x n integer matrix. This matrix has the following properties:\n",
    "\n",
    "# Integers in each row are sorted from right to left.\n",
    "\n",
    "# The first integer of each row is greater than the last integer of the previous row.\n",
    "\n",
    "# Example-: \n",
    "# Input: matrix = [[1,3,5,7],[10,11,16,20],[23,30,34,60]], target = 3\n",
    "\n",
    "# Output: True"
   ]
  },
  {
   "cell_type": "code",
   "execution_count": 29,
   "id": "ce088fbe-0846-477b-a5ea-fd09c08c5bda",
   "metadata": {},
   "outputs": [
    {
     "name": "stdin",
     "output_type": "stream",
     "text": [
      "Enter the number:  3\n"
     ]
    },
    {
     "name": "stdout",
     "output_type": "stream",
     "text": [
      "True\n"
     ]
    }
   ],
   "source": [
    "matrix = [[1,3,5,7],[10,11,16,20],[23,30,34,60]]\n",
    "num = int(input(\"Enter the number: \"))\n",
    "Flag = False \n",
    "\n",
    "for row in matrix:\n",
    "    for element in row:\n",
    "        if element == num:\n",
    "            Flag = True\n",
    "            break\n",
    "    if Flag:\n",
    "        break\n",
    "\n",
    "print(Flag)\n"
   ]
  },
  {
   "cell_type": "markdown",
   "id": "53db7e24-0cc2-4dad-b644-154085df9478",
   "metadata": {},
   "source": [
    "# Question: 2\r",
    "#   Write a program that takes a string as input, and counts the frequency of each word in the string, there might  be repeated characters in the string. Your task is to find the highest frequency and returns the length of the  highest-frequency word. # \r\n",
    "\r\n",
    "Note - You have to write at least 2 additional test cases in which your program will run successfully and provide  an explanation for the same.#   \r\n",
    "\r\n",
    "Example input - string = “write write write all the number from from from 1 to 1# 00” \r\n",
    "\r\n",
    "Example outpu# t - 5 \r\n",
    "\r\n",
    "Explanation - From the given string we can note that the most frequent words are “write” and “from” and  the maximum value of both the values is “write” and its corresponding le\"\"\"ngth is 5 th is 5 \r\n",
    "\r\n"
   ]
  },
  {
   "cell_type": "code",
   "execution_count": 30,
   "id": "c0e17697-1b9e-4f25-884a-5bd92ab84279",
   "metadata": {},
   "outputs": [
    {
     "name": "stdin",
     "output_type": "stream",
     "text": [
      "Enter a string:  write write write all the number from from from 1 to 100\n"
     ]
    },
    {
     "name": "stdout",
     "output_type": "stream",
     "text": [
      "Length of the highest-frequency word: 5\n"
     ]
    }
   ],
   "source": [
    "def find_highest_frequency_length(input_string):\n",
    "\n",
    "   word_frequency = {}\n",
    "   words = input_string.split()\n",
    "\n",
    "   for word in words:\n",
    "\n",
    "       if word in word_frequency:\n",
    "           word_frequency[word] += 1\n",
    "       else:\n",
    "           word_frequency[word] = 1\n",
    "\n",
    "   highest_frequency = max(word_frequency.values())\n",
    "   highest_frequency_word = [word for word, frequency in word_frequency.items() if frequency == highest_frequency]\n",
    "   highest_frequency_word_length = len(highest_frequency_word[0])\n",
    "\n",
    "   return highest_frequency_word_length\n",
    "\n",
    "input_string = input(\"Enter a string: \")\n",
    "length = find_highest_frequency_length(input_string)\n",
    "print(\"Length of the highest-frequency word:\", length)"
   ]
  },
  {
   "cell_type": "code",
   "execution_count": null,
   "id": "d19104a1-dca1-4507-8e68-5cd60f944f8f",
   "metadata": {},
   "outputs": [],
   "source": []
  }
 ],
 "metadata": {
  "kernelspec": {
   "display_name": "Python 3 (ipykernel)",
   "language": "python",
   "name": "python3"
  },
  "language_info": {
   "codemirror_mode": {
    "name": "ipython",
    "version": 3
   },
   "file_extension": ".py",
   "mimetype": "text/x-python",
   "name": "python",
   "nbconvert_exporter": "python",
   "pygments_lexer": "ipython3",
   "version": "3.12.0"
  }
 },
 "nbformat": 4,
 "nbformat_minor": 5
}
